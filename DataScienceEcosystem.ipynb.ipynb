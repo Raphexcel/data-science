{
  "metadata": {
    "language_info": {
      "codemirror_mode": {
        "name": "python",
        "version": 3
      },
      "file_extension": ".py",
      "mimetype": "text/x-python",
      "name": "python",
      "nbconvert_exporter": "python",
      "pygments_lexer": "ipython3",
      "version": "3.8"
    },
    "kernelspec": {
      "name": "python",
      "display_name": "Python (Pyodide)",
      "language": "python"
    }
  },
  "nbformat_minor": 4,
  "nbformat": 4,
  "cells": [
    {
      "cell_type": "code",
      "source": "NAME:\nPeer-Graded_Assignment_Submitting_My_Work",
      "metadata": {
        "tags": []
      },
      "execution_count": null,
      "outputs": []
    },
    {
      "cell_type": "code",
      "source": "INTRODUCTION :\nData Science Tools and Ecosphere",
      "metadata": {},
      "execution_count": null,
      "outputs": []
    },
    {
      "cell_type": "code",
      "source": "In this notebook, Data Science Tools and Ecosystem are summarized.\n\nObjectives:\n\nList popular languages that Data Scientists use.\nList commonly used libraries used by Data Scientists.\nComment on Data Science tools.",
      "metadata": {},
      "execution_count": null,
      "outputs": []
    },
    {
      "cell_type": "code",
      "source": "Some of the popular languages that Data Scientists use are:\n\n1. java\n2. R.\n3. SQL.\n4. python\n5. Julia.\n6. Scala.\n7. C\n8. JavaScript.\n9. c++",
      "metadata": {},
      "execution_count": null,
      "outputs": []
    },
    {
      "cell_type": "code",
      "source": "    Some of the commonly used libraries used by Data Scientists include:\n1. BeautifulSoup.\n2. LightGBM.\n3. ELI5.\n4. TensorFlow.\n5. NumPy.\n6. Bob.\n7. PyBrain.\n8. Caffe2.\n9. NuPIC.\n10. Ramp.",
      "metadata": {},
      "execution_count": null,
      "outputs": []
    },
    {
      "cell_type": "code",
      "source": "Data Science Tools:\n\nData Science Tools\t\t\nSAS. It is one of those data science tools which are specifically designed for statistical operation\t\t\nApache Spark\t\t\nBigML",
      "metadata": {},
      "execution_count": null,
      "outputs": []
    },
    {
      "cell_type": "code",
      "source": "# Arithmetic operations\ncode = compile(\"4 + 7\", \"<string>\", \"eval\")\neval(code)",
      "metadata": {
        "trusted": true
      },
      "execution_count": 4,
      "outputs": [
        {
          "execution_count": 4,
          "output_type": "execute_result",
          "data": {
            "text/plain": "11"
          },
          "metadata": {}
        }
      ]
    },
    {
      "cell_type": "code",
      "source": "code1 = compile(\"(5 + 5) * 2\", \"<string>\", \"eval\")\neval(code1)\n",
      "metadata": {
        "trusted": true
      },
      "execution_count": 3,
      "outputs": [
        {
          "execution_count": 3,
          "output_type": "execute_result",
          "data": {
            "text/plain": "20"
          },
          "metadata": {}
        }
      ]
    },
    {
      "cell_type": "code",
      "source": "(3*4)+5",
      "metadata": {
        "trusted": true
      },
      "execution_count": 1,
      "outputs": [
        {
          "execution_count": 1,
          "output_type": "execute_result",
          "data": {
            "text/plain": "17"
          },
          "metadata": {}
        }
      ]
    },
    {
      "cell_type": "code",
      "source": "days = 2\nhours = 0\nmins = 0\n\ntime = 200\n#days = time / 1440\nleftover_minutes = time % 1440\nhours = leftover_minutes / 60\n#mins = time - (days*1440) - (hours*60)\nprint(str(days) + \" days, \" + str(hours) + \" hours, \" + str(mins) +  \" mins. \")",
      "metadata": {
        "trusted": true
      },
      "execution_count": 2,
      "outputs": [
        {
          "name": "stdout",
          "text": "2 days, 3.3333333333333335 hours, 0 mins. \n",
          "output_type": "stream"
        }
      ]
    },
    {
      "cell_type": "markdown",
      "source": "OBJECTIVES:\nTo explore, sort and analyze megadata from various sources in order to take advantage of them and reach conclusions to optimize business processes or for decision support.",
      "metadata": {}
    },
    {
      "cell_type": "code",
      "source": "Author:\nOBIEKEZIE ONYEDIKA RAPHAEL",
      "metadata": {},
      "execution_count": null,
      "outputs": []
    },
    {
      "cell_type": "code",
      "source": "",
      "metadata": {},
      "execution_count": null,
      "outputs": []
    }
  ]
}